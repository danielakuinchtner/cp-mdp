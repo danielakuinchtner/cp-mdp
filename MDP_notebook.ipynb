{
 "cells": [
  {
   "cell_type": "markdown",
   "metadata": {},
   "source": [
    "## MDPs in pymdptoolbox - Class Assignment\n",
    "\n",
    "In this practical exercise, we will look at how MDP planning is implemented in a mathematical toolkit, and track the calculation of the rewards for each state via Value Iteration. The following code sets up an MDP environment (the basic case shown in class, shown in the Figure below) and computes the policy for the given MDP using the Value Iteration algorithm.\n",
    "\n",
    "<img align=\"center\" src=\"mdp_simple.png\"/>\n",
    "\n",
    "Then we provide a set of questions for you to implement and answer. This assignment is not graded.\n",
    "\n"
   ]
  },
  {
   "cell_type": "code",
   "execution_count": 11,
   "metadata": {},
   "outputs": [
    {
     "name": "stdout",
     "output_type": "stream",
     "text": [
      "[['E' 'E' 'E' 'T']\n",
      " ['N' 'O' 'W' 'T']\n",
      " ['N' 'E' 'N' 'S']]\n",
      "[[[0.9 0.1 0.  0.  0.  0.  0.  0.  0.  0.  0.  0. ]\n",
      "  [0.1 0.8 0.1 0.  0.  0.  0.  0.  0.  0.  0.  0. ]\n",
      "  [0.  0.1 0.8 0.1 0.  0.  0.  0.  0.  0.  0.  0. ]\n",
      "  [0.  0.  0.  0.  0.  0.  0.  0.  0.  0.  0.  0. ]\n",
      "  [0.8 0.  0.  0.  0.2 0.  0.  0.  0.  0.  0.  0. ]\n",
      "  [0.  0.  0.  0.  0.  0.  0.  0.  0.  0.  0.  0. ]\n",
      "  [0.  0.  0.8 0.  0.  0.  0.1 0.1 0.  0.  0.  0. ]\n",
      "  [0.  0.  0.  0.  0.  0.  0.  0.  0.  0.  0.  0. ]\n",
      "  [0.  0.  0.  0.  0.8 0.  0.  0.  0.1 0.1 0.  0. ]\n",
      "  [0.  0.  0.  0.  0.  0.  0.  0.  0.1 0.8 0.1 0. ]\n",
      "  [0.  0.  0.  0.  0.  0.  0.8 0.  0.  0.1 0.  0.1]\n",
      "  [0.  0.  0.  0.  0.  0.  0.  0.8 0.  0.  0.1 0.1]]\n",
      "\n",
      " [[0.1 0.1 0.  0.  0.8 0.  0.  0.  0.  0.  0.  0. ]\n",
      "  [0.1 0.8 0.1 0.  0.  0.  0.  0.  0.  0.  0.  0. ]\n",
      "  [0.  0.1 0.  0.1 0.  0.  0.8 0.  0.  0.  0.  0. ]\n",
      "  [0.  0.  0.  0.  0.  0.  0.  0.  0.  0.  0.  0. ]\n",
      "  [0.  0.  0.  0.  0.2 0.  0.  0.  0.8 0.  0.  0. ]\n",
      "  [0.  0.  0.  0.  0.  0.  0.  0.  0.  0.  0.  0. ]\n",
      "  [0.  0.  0.  0.  0.  0.  0.1 0.1 0.  0.  0.8 0. ]\n",
      "  [0.  0.  0.  0.  0.  0.  0.  0.  0.  0.  0.  0. ]\n",
      "  [0.  0.  0.  0.  0.  0.  0.  0.  0.9 0.1 0.  0. ]\n",
      "  [0.  0.  0.  0.  0.  0.  0.  0.  0.1 0.8 0.1 0. ]\n",
      "  [0.  0.  0.  0.  0.  0.  0.  0.  0.  0.1 0.8 0.1]\n",
      "  [0.  0.  0.  0.  0.  0.  0.  0.  0.  0.  0.1 0.9]]\n",
      "\n",
      " [[0.1 0.8 0.  0.  0.1 0.  0.  0.  0.  0.  0.  0. ]\n",
      "  [0.  0.2 0.8 0.  0.  0.  0.  0.  0.  0.  0.  0. ]\n",
      "  [0.  0.  0.1 0.8 0.  0.  0.1 0.  0.  0.  0.  0. ]\n",
      "  [0.  0.  0.  0.  0.  0.  0.  0.  0.  0.  0.  0. ]\n",
      "  [0.1 0.  0.  0.  0.8 0.  0.  0.  0.1 0.  0.  0. ]\n",
      "  [0.  0.  0.  0.  0.  0.  0.  0.  0.  0.  0.  0. ]\n",
      "  [0.  0.  0.1 0.  0.  0.  0.  0.8 0.  0.  0.1 0. ]\n",
      "  [0.  0.  0.  0.  0.  0.  0.  0.  0.  0.  0.  0. ]\n",
      "  [0.  0.  0.  0.  0.1 0.  0.  0.  0.1 0.8 0.  0. ]\n",
      "  [0.  0.  0.  0.  0.  0.  0.  0.  0.  0.2 0.8 0. ]\n",
      "  [0.  0.  0.  0.  0.  0.  0.1 0.  0.  0.  0.1 0.8]\n",
      "  [0.  0.  0.  0.  0.  0.  0.  0.1 0.  0.  0.  0.9]]\n",
      "\n",
      " [[0.9 0.  0.  0.  0.1 0.  0.  0.  0.  0.  0.  0. ]\n",
      "  [0.8 0.2 0.  0.  0.  0.  0.  0.  0.  0.  0.  0. ]\n",
      "  [0.  0.8 0.1 0.  0.  0.  0.1 0.  0.  0.  0.  0. ]\n",
      "  [0.  0.  0.  0.  0.  0.  0.  0.  0.  0.  0.  0. ]\n",
      "  [0.1 0.  0.  0.  0.8 0.  0.  0.  0.1 0.  0.  0. ]\n",
      "  [0.  0.  0.  0.  0.  0.  0.  0.  0.  0.  0.  0. ]\n",
      "  [0.  0.  0.1 0.  0.  0.  0.8 0.  0.  0.  0.1 0. ]\n",
      "  [0.  0.  0.  0.  0.  0.  0.  0.  0.  0.  0.  0. ]\n",
      "  [0.  0.  0.  0.  0.1 0.  0.  0.  0.9 0.  0.  0. ]\n",
      "  [0.  0.  0.  0.  0.  0.  0.  0.  0.8 0.2 0.  0. ]\n",
      "  [0.  0.  0.  0.  0.  0.  0.1 0.  0.  0.8 0.1 0. ]\n",
      "  [0.  0.  0.  0.  0.  0.  0.  0.1 0.  0.  0.8 0.1]]]\n"
     ]
    }
   ],
   "source": [
    "# The line below is to be used if you have pymdptoolbox installed with setuptools\n",
    "# import mdptoolbox.example\n",
    "# Whereas the line below obviate the need to install that\n",
    "import sys\n",
    "sys.path.insert(1,'pymdptoolbox/src')\n",
    "import mdptoolbox.example\n",
    "\n",
    "import numpy as _np\n",
    "from gen_scenario import *\n",
    "\n",
    "\"\"\"\n",
    "(Y,X)\n",
    "| 00 01 02 ... 0X-1       'N' = North\n",
    "| 10  .         .         'S' = South\n",
    "| 20    .       .         'W' = West\n",
    "| .       .     .         'E' = East\n",
    "| .         .   .         'T' = Terminal\n",
    "| .           . .         'O' = Obstacle\n",
    "| Y-1,0 . . .   Y-1X-1\n",
    "\"\"\" \n",
    "\n",
    "shape = [3,4]\n",
    "rewards = [[0,3,100],[1,3,-100]]\n",
    "obstacles = [[1,1]]\n",
    "terminals = [[0,3],[1,3]]\n",
    "P, RSS, R = mdp_grid(shape=shape, terminals=terminals, r=-3, rewards=rewards, obstacles=obstacles)\n",
    "vi = mdptoolbox.mdp.ValueIterationGS(P, R, discount=0.1, epsilon=0.001, max_iter=1000, skip_check=True)\n",
    "\n",
    "vi.run() #You can check the quadrant values using print vi.V\n",
    "print_policy(vi.policy, shape, obstacles=obstacles, terminals=terminals)\n",
    "# display_policy(vi.policy, shape, obstacles=obstacles, terminals=terminals)\n",
    "\n",
    "print(P)\n"
   ]
  },
  {
   "cell_type": "markdown",
   "metadata": {},
   "source": [
    "Here we plot the difference between each iteration of the Value Iteration algorithm using many different discount factors. To plot this image, you must install seaborn. To install seaborn run: \n",
    "\n",
    "```\n",
    "pip3 install seaborn --user\n",
    "\n",
    "```"
   ]
  },
  {
   "cell_type": "code",
   "execution_count": 7,
   "metadata": {},
   "outputs": [
    {
     "data": {
      "image/png": "[encoded data removed]",
      "text/plain": [
       "<Figure size 462.625x360 with 1 Axes>"
      ]
     },
     "metadata": {
      "needs_background": "light"
     },
     "output_type": "display_data"
    }
   ],
   "source": [
    "def plot(P, R, discounts=[0.1, 0.2, 0.3, 0.4, 0.5, 0.6, 0.7, 0.8, 0.9, 0.95], epsilon=0.001, max_iter=1000):\n",
    "    data_list = []\n",
    "    import pandas as pd\n",
    "    from matplotlib import pyplot as plt\n",
    "    %matplotlib inline\n",
    "    import seaborn as sns\n",
    "    data_list = []\n",
    "    for d in discounts:\n",
    "        vis = mdptoolbox.mdp.ValueIteration(P, R, d, epsilon, max_iter, skip_check=True)\n",
    "        vis.run()\n",
    "        iterations = 1\n",
    "        for value in vis.iterations_list:\n",
    "            data_list.append([value, 'gamma: ' + str(d), iterations])\n",
    "            iterations +=1\n",
    "    data_frame2 = pd.DataFrame(data_list, columns=['difference', 'discount', 'iterations'])\n",
    "    ax = sns.relplot(x = 'iterations', y = 'difference', hue='discount', kind=\"line\", data=data_frame2)\n",
    "plot(P,R)\n",
    "\n"
   ]
  },
  {
   "cell_type": "markdown",
   "metadata": {},
   "source": [
    "You can use the following commands to check the difference of value-function values during each teration and the values of each value function.\n"
   ]
  },
  {
   "cell_type": "code",
   "execution_count": null,
   "metadata": {},
   "outputs": [],
   "source": [
    "print(vi.iterations_list)\n",
    "print(vi.v_list[-1])"
   ]
  },
  {
   "cell_type": "markdown",
   "metadata": {},
   "source": [
    "Before you go for the questionnaire, take your time to open the source code of the MDP toolkit we use, specifically, look into these files:\n",
    "1. [gen_scenario.py](gen_scenario.py) - contains the conversion code to make the simple coordinate commands above (e.g. ```shape = [3,4]```) into the matrices actually used by the MDP solver\n",
    "2. [mdp.py](pymdptoolbox/src/mdptoolbox/mdp.py) - contains most of the logic for an MDP, including the *Bellman Equation* as follows:\n",
    "\n",
    "$$V(s) = \\left[ \\max_{a} \\gamma \\sum_{s'}P(s'|s,a)*V(s') \\right]+ R(s)$$\n",
    "\n",
    "See if you can identify how this equation is implemented in the ```MDP._bellmanOperator``` with the [mdp.py](pymdptoolbox/src/mdptoolbox/mdp.py) file. Note how this implementation uses matrix multiplication to achieve the summation step described in the equation. Once you believe you understand that, go ahead and respond the questionnaire. \n",
    "\n",
    "### Questionnaire\n",
    "1. Study the code of the cell above and answer the following questions.\n",
    "\t1. What is the policy generated if we change the discount factor of the grid domain to ```0.1```?\n",
    "\t2. Use the following line ```vi.verbose = True``` before ```vi.run()```:   \n",
    "\tWhat is the variation for each of the first three iterations with the discount factor of ```0.9``` and how many iterations does the algorithm take to converge?\n",
    "\t3. How does changes to the discount factor affect the variation of the state values over time?"
   ]
  },
  {
   "cell_type": "code",
   "execution_count": null,
   "metadata": {},
   "outputs": [],
   "source": [
    "#1.A"
   ]
  },
  {
   "cell_type": "code",
   "execution_count": null,
   "metadata": {},
   "outputs": [],
   "source": [
    "#1.B"
   ]
  },
  {
   "cell_type": "code",
   "execution_count": null,
   "metadata": {},
   "outputs": [],
   "source": [
    "#1.C"
   ]
  },
  {
   "cell_type": "markdown",
   "metadata": {},
   "source": [
    "2. The scenario below has an interesting structure whereby the positive rewarding terminal state is partially surrounded by negatively-rewarding states. Program this scenario in pymdptoolbox and compute the optimal policy with a discount factor of 0.99.\n",
    "\n",
    "<img align=\"center\" src=\"mdp-odd.png\"/>\n",
    "\n",
    "\n"
   ]
  },
  {
   "cell_type": "code",
   "execution_count": null,
   "metadata": {},
   "outputs": [],
   "source": [
    "#2"
   ]
  },
  {
   "cell_type": "markdown",
   "metadata": {},
   "source": [
    "3. Define two new 5 by 5 scenarios with multiple obstacles and an interesting geometry following the guidelines below. Calculate the policy with discount factor 0.99, and then try to explain intuitively the reason for the resulting policies, given the initial parameters. These two scenarios must have the following characteristics:\n",
    "\t1. A scenario with one (or more) terminal states with positive rewards and at least one other state with the same amount of, but negative reward and no terminal states with negative rewards.\n",
    "\t2. A scenario with one terminal state with a negative reward and at least one non-terminal state with a positive reward."
   ]
  },
  {
   "cell_type": "code",
   "execution_count": null,
   "metadata": {},
   "outputs": [],
   "source": [
    "#3.A"
   ]
  },
  {
   "cell_type": "code",
   "execution_count": null,
   "metadata": {},
   "outputs": [],
   "source": [
    "#3.B"
   ]
  },
  {
   "cell_type": "code",
   "execution_count": null,
   "metadata": {},
   "outputs": [],
   "source": []
  }
 ],
 "metadata": {
  "kernelspec": {
   "display_name": "Python 3",
   "language": "python",
   "name": "python3"
  },
  "language_info": {
   "codemirror_mode": {
    "name": "ipython",
    "version": 3
   },
   "file_extension": ".py",
   "mimetype": "text/x-python",
   "name": "python",
   "nbconvert_exporter": "python",
   "pygments_lexer": "ipython3",
   "version": "3.7.6"
  }
 },
 "nbformat": 4,
 "nbformat_minor": 2
}
